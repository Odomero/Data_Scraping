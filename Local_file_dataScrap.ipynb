{
 "cells": [
  {
   "cell_type": "markdown",
   "metadata": {},
   "source": [
    "# Data Scrapping of Local Html File"
   ]
  },
  {
   "cell_type": "code",
   "execution_count": 1,
   "metadata": {},
   "outputs": [],
   "source": [
    "#Importing Libraries\n",
    "\n",
    "import requests\n",
    "from bs4 import BeautifulSoup as bsp\n",
    "import pandas as pd"
   ]
  },
  {
   "cell_type": "code",
   "execution_count": 2,
   "metadata": {},
   "outputs": [],
   "source": [
    "#Python Script extracting all links and writing them into a Text File\n",
    "\n",
    "def link_within_tag(input_file_path,file_name):\n",
    "    '''\n",
    "    This function extracts all links title within \n",
    "    the anchor tag and wites them as plain text \n",
    "    into a text file\n",
    "    \n",
    "    input_file_path: the path to the HTML file on \n",
    "    your local computer.Include an r before the \n",
    "    path e.g.  r\"C:\\..\\..\\..\"\n",
    "    \n",
    "    file_name: file name to be created ending \n",
    "    with .txt  e.g. link.txt\n",
    "    '''\n",
    "    \n",
    "    with open(input_file_path) as html_page:\n",
    "        page_soup = bsp(html_page, 'html.parser')\n",
    "        \n",
    "    file = open(file_name, \"a\")\n",
    "        \n",
    "    ul_link = page_soup.find_all('ul')\n",
    "    \n",
    "    for link in ul_link:\n",
    "        a_tag = link.find_all('a')\n",
    "        for lin in a_tag:\n",
    "            a_str = lin.string\n",
    "            if a_str != None:\n",
    "                file.write(a_str)\n",
    "                file.write('\\n')\n",
    "    file.close()"
   ]
  },
  {
   "cell_type": "code",
   "execution_count": 3,
   "metadata": {},
   "outputs": [],
   "source": []
  }
 ],
 "metadata": {
  "kernelspec": {
   "display_name": "Python 3",
   "language": "python",
   "name": "python3"
  },
  "language_info": {
   "codemirror_mode": {
    "name": "ipython",
    "version": 3
   },
   "file_extension": ".py",
   "mimetype": "text/x-python",
   "name": "python",
   "nbconvert_exporter": "python",
   "pygments_lexer": "ipython3",
   "version": "3.8.5"
  },
  "toc": {
   "base_numbering": 1,
   "nav_menu": {},
   "number_sections": true,
   "sideBar": true,
   "skip_h1_title": false,
   "title_cell": "Table of Contents",
   "title_sidebar": "Contents",
   "toc_cell": false,
   "toc_position": {},
   "toc_section_display": true,
   "toc_window_display": false
  }
 },
 "nbformat": 4,
 "nbformat_minor": 4
}
