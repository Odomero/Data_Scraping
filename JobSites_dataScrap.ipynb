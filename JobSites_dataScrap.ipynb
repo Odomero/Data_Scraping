{
 "cells": [
  {
   "cell_type": "markdown",
   "metadata": {},
   "source": [
    "# Job Site Web Scrapping Using BeautifulSoup"
   ]
  },
  {
   "cell_type": "code",
   "execution_count": 1,
   "metadata": {},
   "outputs": [],
   "source": [
    "#Importing Libraries\n",
    "\n",
    "import requests\n",
    "from bs4 import BeautifulSoup as bsp\n",
    "import pandas as pd"
   ]
  },
  {
   "cell_type": "code",
   "execution_count": 2,
   "metadata": {},
   "outputs": [],
   "source": [
    "#Read in the website to be scrapped\n",
    "\n",
    "result = requests.get('https://www.thebalancecareers.com/top-best-job-websites-2064080')"
   ]
  },
  {
   "cell_type": "code",
   "execution_count": 3,
   "metadata": {},
   "outputs": [
    {
     "name": "stdout",
     "output_type": "stream",
     "text": [
      "200\n"
     ]
    }
   ],
   "source": [
    "#Status of website\n",
    "\n",
    "print(result.status_code)"
   ]
  },
  {
   "cell_type": "code",
   "execution_count": 4,
   "metadata": {},
   "outputs": [],
   "source": [
    "# Website's Content\n",
    "\n",
    "page_content = result.content"
   ]
  },
  {
   "cell_type": "code",
   "execution_count": 5,
   "metadata": {},
   "outputs": [],
   "source": [
    "#Read Website Content into Beautiful Soup\n",
    "\n",
    "page_soup = bsp(page_content, 'lxml')"
   ]
  },
  {
   "cell_type": "code",
   "execution_count": 6,
   "metadata": {
    "scrolled": true
   },
   "outputs": [],
   "source": [
    "#Store all links within ul tags in a dictionary\n",
    "\n",
    "def link_within_tag(tag,col1,col2):\n",
    "    '''\n",
    "    This function saves all links within a\n",
    "    tag in a dictionary, and converts the \n",
    "    dictionary to a DataFrame\n",
    "    '''\n",
    "    url = {}\n",
    "    ul_link = page_soup.find_all(tag)\n",
    "    id = 0\n",
    "    for link in ul_link:\n",
    "        a_tag = link.find_all('a')\n",
    "        for lin in a_tag:\n",
    "            a_href = lin.attrs['href']\n",
    "            a_str = lin.string\n",
    "            url[id] = {col1:a_str, col2:a_href}\n",
    "            id += 1\n",
    "    url_df = pd.DataFrame(url).transpose()\n",
    "    return(url_df)"
   ]
  },
  {
   "cell_type": "code",
   "execution_count": 7,
   "metadata": {},
   "outputs": [
    {
     "data": {
      "text/html": [
       "<div>\n",
       "<style scoped>\n",
       "    .dataframe tbody tr th:only-of-type {\n",
       "        vertical-align: middle;\n",
       "    }\n",
       "\n",
       "    .dataframe tbody tr th {\n",
       "        vertical-align: top;\n",
       "    }\n",
       "\n",
       "    .dataframe thead th {\n",
       "        text-align: right;\n",
       "    }\n",
       "</style>\n",
       "<table border=\"1\" class=\"dataframe\">\n",
       "  <thead>\n",
       "    <tr style=\"text-align: right;\">\n",
       "      <th></th>\n",
       "      <th>Job_Site</th>\n",
       "      <th>Job_site_link</th>\n",
       "    </tr>\n",
       "  </thead>\n",
       "  <tbody>\n",
       "    <tr>\n",
       "      <th>0</th>\n",
       "      <td>None</td>\n",
       "      <td>https://www.thebalancecareers.com/finding-a-jo...</td>\n",
       "    </tr>\n",
       "    <tr>\n",
       "      <th>1</th>\n",
       "      <td>Resume Guide\\n</td>\n",
       "      <td>https://www.thebalancecareers.com/resume-forma...</td>\n",
       "    </tr>\n",
       "    <tr>\n",
       "      <th>2</th>\n",
       "      <td>Cover Letter Guide\\n</td>\n",
       "      <td>https://www.thebalancecareers.com/get-your-cov...</td>\n",
       "    </tr>\n",
       "    <tr>\n",
       "      <th>3</th>\n",
       "      <td>Job Searching Guide\\n</td>\n",
       "      <td>https://www.thebalancecareers.com/one-month-to...</td>\n",
       "    </tr>\n",
       "    <tr>\n",
       "      <th>4</th>\n",
       "      <td>Interview Types\\n</td>\n",
       "      <td>https://www.thebalancecareers.com/job-intervie...</td>\n",
       "    </tr>\n",
       "    <tr>\n",
       "      <th>...</th>\n",
       "      <td>...</td>\n",
       "      <td>...</td>\n",
       "    </tr>\n",
       "    <tr>\n",
       "      <th>61</th>\n",
       "      <td>Contact</td>\n",
       "      <td>https://www.thebalancecareers.com/about-us#con...</td>\n",
       "    </tr>\n",
       "    <tr>\n",
       "      <th>62</th>\n",
       "      <td>Cookie Policy</td>\n",
       "      <td>/terms-of-use-and-policies-4869845#the-balance...</td>\n",
       "    </tr>\n",
       "    <tr>\n",
       "      <th>63</th>\n",
       "      <td>Terms of Use</td>\n",
       "      <td>/terms-of-use-and-policies-4869845#terms-of-use</td>\n",
       "    </tr>\n",
       "    <tr>\n",
       "      <th>64</th>\n",
       "      <td>Privacy Policy</td>\n",
       "      <td>/terms-of-use-and-policies-4869845#privacy-policy</td>\n",
       "    </tr>\n",
       "    <tr>\n",
       "      <th>65</th>\n",
       "      <td>California Privacy Notice</td>\n",
       "      <td>/terms-of-use-and-policies-4869845#jurisdictio...</td>\n",
       "    </tr>\n",
       "  </tbody>\n",
       "</table>\n",
       "<p>66 rows × 2 columns</p>\n",
       "</div>"
      ],
      "text/plain": [
       "                     Job_Site  \\\n",
       "0                        None   \n",
       "1              Resume Guide\\n   \n",
       "2        Cover Letter Guide\\n   \n",
       "3       Job Searching Guide\\n   \n",
       "4           Interview Types\\n   \n",
       "..                        ...   \n",
       "61                    Contact   \n",
       "62              Cookie Policy   \n",
       "63               Terms of Use   \n",
       "64             Privacy Policy   \n",
       "65  California Privacy Notice   \n",
       "\n",
       "                                        Job_site_link  \n",
       "0   https://www.thebalancecareers.com/finding-a-jo...  \n",
       "1   https://www.thebalancecareers.com/resume-forma...  \n",
       "2   https://www.thebalancecareers.com/get-your-cov...  \n",
       "3   https://www.thebalancecareers.com/one-month-to...  \n",
       "4   https://www.thebalancecareers.com/job-intervie...  \n",
       "..                                                ...  \n",
       "61  https://www.thebalancecareers.com/about-us#con...  \n",
       "62  /terms-of-use-and-policies-4869845#the-balance...  \n",
       "63    /terms-of-use-and-policies-4869845#terms-of-use  \n",
       "64  /terms-of-use-and-policies-4869845#privacy-policy  \n",
       "65  /terms-of-use-and-policies-4869845#jurisdictio...  \n",
       "\n",
       "[66 rows x 2 columns]"
      ]
     },
     "execution_count": 7,
     "metadata": {},
     "output_type": "execute_result"
    }
   ],
   "source": [
    "link_within_tag('ul','Job_Site','Job_site_link')"
   ]
  },
  {
   "cell_type": "code",
   "execution_count": 8,
   "metadata": {},
   "outputs": [
    {
     "name": "stdout",
     "output_type": "stream",
     "text": [
      "[['fullscreen-nav__list', 'js-fullscreen-nav'], ['fullscreen-nav__sublist'], ['fullscreen-nav__sublist'], ['fullscreen-nav__sublist'], ['summary-list__content'], ['comp', 'mntl-toc__list-heading', 'expert-content', 'mntl-toc__list'], ['footer-links__list']]\n"
     ]
    }
   ],
   "source": [
    "url = []\n",
    "ul_link = page_soup.find_all('ul')\n",
    "id = 0\n",
    "for link in ul_link:\n",
    "    class_link = link.attrs['class']\n",
    "    url.append(class_link)\n",
    "print(url)"
   ]
  },
  {
   "cell_type": "code",
   "execution_count": 9,
   "metadata": {},
   "outputs": [
    {
     "name": "stdout",
     "output_type": "stream",
     "text": [
      "{0: {'Job_Site': ' Indeed', 'Job_Site_link': 'https://resumes.indeed.com/'}, 1: {'Job_Site': ' Monster', 'Job_Site_link': 'https://click.linksynergy.com/fs-bin/click?id=Q*Sg3glZ/fs&offerid=913140.38&type=3&subid=0'}, 2: {'Job_Site': ' Glassdoor', 'Job_Site_link': 'https://www.glassdoor.com/index.htm'}, 3: {'Job_Site': ' FlexJobs', 'Job_Site_link': 'https://flexjobsrocks.go2cloud.org/aff_c?offer_id=1&aff_id=1967'}, 4: {'Job_Site': ' The Ladders', 'Job_Site_link': 'https://www.theladders.com/'}, 5: {'Job_Site': ' AngelList', 'Job_Site_link': 'https://angel.co/'}, 6: {'Job_Site': ' LinkedIn', 'Job_Site_link': 'https://linkedin.oedf.net/c/2104074/637360/10022?u=https%3A%2F%2Fwww.linkedin.com%2F'}, 7: {'Job_Site': ' Getwork', 'Job_Site_link': 'https://getwork.com/'}, 8: {'Job_Site': ' Scouted', 'Job_Site_link': 'https://scouted.io/'}, 9: {'Job_Site': ' Snagajob', 'Job_Site_link': 'https://www.snagajob.com/'}}\n"
     ]
    }
   ],
   "source": [
    "#Store all links within a specific ul tag in a dictionary\n",
    "\n",
    "url_dic = {}\n",
    "\n",
    "ul_link = page_soup.find_all('ul')[url.index(['summary-list__content'])]\n",
    "\n",
    "url_list =[link for link in ul_link.find_all('a')] \n",
    "\n",
    "id = 0\n",
    "for link in url_list: \n",
    "    a_href = link.attrs['href']\n",
    "    a_str = link.string\n",
    "    url_dic[id] = {'Job_Site':a_str, 'Job_Site_link':a_href}\n",
    "    id += 1\n",
    "    \n",
    "print(url_dic)"
   ]
  },
  {
   "cell_type": "code",
   "execution_count": 10,
   "metadata": {},
   "outputs": [
    {
     "data": {
      "text/html": [
       "<div>\n",
       "<style scoped>\n",
       "    .dataframe tbody tr th:only-of-type {\n",
       "        vertical-align: middle;\n",
       "    }\n",
       "\n",
       "    .dataframe tbody tr th {\n",
       "        vertical-align: top;\n",
       "    }\n",
       "\n",
       "    .dataframe thead th {\n",
       "        text-align: right;\n",
       "    }\n",
       "</style>\n",
       "<table border=\"1\" class=\"dataframe\">\n",
       "  <thead>\n",
       "    <tr style=\"text-align: right;\">\n",
       "      <th></th>\n",
       "      <th>Job_Site</th>\n",
       "      <th>Job_Site_link</th>\n",
       "    </tr>\n",
       "  </thead>\n",
       "  <tbody>\n",
       "    <tr>\n",
       "      <th>0</th>\n",
       "      <td>Indeed</td>\n",
       "      <td>https://resumes.indeed.com/</td>\n",
       "    </tr>\n",
       "    <tr>\n",
       "      <th>1</th>\n",
       "      <td>Monster</td>\n",
       "      <td>https://click.linksynergy.com/fs-bin/click?id=...</td>\n",
       "    </tr>\n",
       "    <tr>\n",
       "      <th>2</th>\n",
       "      <td>Glassdoor</td>\n",
       "      <td>https://www.glassdoor.com/index.htm</td>\n",
       "    </tr>\n",
       "    <tr>\n",
       "      <th>3</th>\n",
       "      <td>FlexJobs</td>\n",
       "      <td>https://flexjobsrocks.go2cloud.org/aff_c?offer...</td>\n",
       "    </tr>\n",
       "    <tr>\n",
       "      <th>4</th>\n",
       "      <td>The Ladders</td>\n",
       "      <td>https://www.theladders.com/</td>\n",
       "    </tr>\n",
       "    <tr>\n",
       "      <th>5</th>\n",
       "      <td>AngelList</td>\n",
       "      <td>https://angel.co/</td>\n",
       "    </tr>\n",
       "    <tr>\n",
       "      <th>6</th>\n",
       "      <td>LinkedIn</td>\n",
       "      <td>https://linkedin.oedf.net/c/2104074/637360/100...</td>\n",
       "    </tr>\n",
       "    <tr>\n",
       "      <th>7</th>\n",
       "      <td>Getwork</td>\n",
       "      <td>https://getwork.com/</td>\n",
       "    </tr>\n",
       "    <tr>\n",
       "      <th>8</th>\n",
       "      <td>Scouted</td>\n",
       "      <td>https://scouted.io/</td>\n",
       "    </tr>\n",
       "    <tr>\n",
       "      <th>9</th>\n",
       "      <td>Snagajob</td>\n",
       "      <td>https://www.snagajob.com/</td>\n",
       "    </tr>\n",
       "  </tbody>\n",
       "</table>\n",
       "</div>"
      ],
      "text/plain": [
       "       Job_Site                                      Job_Site_link\n",
       "0        Indeed                        https://resumes.indeed.com/\n",
       "1       Monster  https://click.linksynergy.com/fs-bin/click?id=...\n",
       "2     Glassdoor                https://www.glassdoor.com/index.htm\n",
       "3      FlexJobs  https://flexjobsrocks.go2cloud.org/aff_c?offer...\n",
       "4   The Ladders                        https://www.theladders.com/\n",
       "5     AngelList                                  https://angel.co/\n",
       "6      LinkedIn  https://linkedin.oedf.net/c/2104074/637360/100...\n",
       "7       Getwork                               https://getwork.com/\n",
       "8       Scouted                                https://scouted.io/\n",
       "9      Snagajob                          https://www.snagajob.com/"
      ]
     },
     "execution_count": 10,
     "metadata": {},
     "output_type": "execute_result"
    }
   ],
   "source": [
    "url_filter_dtf = pd.DataFrame(url_dic).transpose()\n",
    "url_filter_dtf"
   ]
  },
  {
   "cell_type": "code",
   "execution_count": 11,
   "metadata": {},
   "outputs": [],
   "source": [
    "#Save to csv file\n",
    "\n",
    "url_filter_dtf.to_csv('Job_Site_Links')"
   ]
  }
 ],
 "metadata": {
  "kernelspec": {
   "display_name": "Python 3",
   "language": "python",
   "name": "python3"
  },
  "language_info": {
   "codemirror_mode": {
    "name": "ipython",
    "version": 3
   },
   "file_extension": ".py",
   "mimetype": "text/x-python",
   "name": "python",
   "nbconvert_exporter": "python",
   "pygments_lexer": "ipython3",
   "version": "3.8.5"
  },
  "toc": {
   "base_numbering": 1,
   "nav_menu": {},
   "number_sections": true,
   "sideBar": true,
   "skip_h1_title": false,
   "title_cell": "Table of Contents",
   "title_sidebar": "Contents",
   "toc_cell": false,
   "toc_position": {},
   "toc_section_display": true,
   "toc_window_display": false
  }
 },
 "nbformat": 4,
 "nbformat_minor": 4
}
